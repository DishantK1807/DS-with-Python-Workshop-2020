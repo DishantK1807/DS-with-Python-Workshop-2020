{
  "nbformat": 4,
  "nbformat_minor": 0,
  "metadata": {
    "colab": {
      "name": "Python_practice.ipynb",
      "provenance": []
    },
    "kernelspec": {
      "name": "python3",
      "display_name": "Python 3"
    }
  },
  "cells": [
    {
      "cell_type": "code",
      "metadata": {
        "id": "idK2SZBz7fBD",
        "colab_type": "code",
        "outputId": "714cbfa0-b6d3-4802-c283-f686c81a4b49",
        "colab": {
          "base_uri": "https://localhost:8080/",
          "height": 36
        }
      },
      "source": [
        "print(\"Hello World!\")"
      ],
      "execution_count": 0,
      "outputs": [
        {
          "output_type": "stream",
          "text": [
            "Hello World!\n"
          ],
          "name": "stdout"
        }
      ]
    },
    {
      "cell_type": "code",
      "metadata": {
        "id": "Fi2Xz0YDD9_E",
        "colab_type": "code",
        "outputId": "a5e56806-2624-4b64-b12b-1ade754f2a83",
        "colab": {
          "base_uri": "https://localhost:8080/",
          "height": 54
        }
      },
      "source": [
        " a_variable  = \"String\"\n",
        " print(a_variable)\n",
        " type(a_variable)"
      ],
      "execution_count": 0,
      "outputs": [
        {
          "output_type": "stream",
          "text": [
            "String\n"
          ],
          "name": "stdout"
        },
        {
          "output_type": "execute_result",
          "data": {
            "text/plain": [
              "str"
            ]
          },
          "metadata": {
            "tags": []
          },
          "execution_count": 4
        }
      ]
    },
    {
      "cell_type": "code",
      "metadata": {
        "id": "7qMn2yWCEVfL",
        "colab_type": "code",
        "outputId": "1405bb19-e170-4002-b88a-65be8df8c516",
        "colab": {
          "base_uri": "https://localhost:8080/",
          "height": 36
        }
      },
      "source": [
        "\"\"\" This is a multi line comment \"\"\""
      ],
      "execution_count": 0,
      "outputs": [
        {
          "output_type": "execute_result",
          "data": {
            "text/plain": [
              "' This is  '"
            ]
          },
          "metadata": {
            "tags": []
          },
          "execution_count": 6
        }
      ]
    },
    {
      "cell_type": "code",
      "metadata": {
        "id": "q40PTX4nE3f8",
        "colab_type": "code",
        "outputId": "82e29318-3b4c-40a0-ce5d-d07653bd4a0b",
        "colab": {
          "base_uri": "https://localhost:8080/",
          "height": 36
        }
      },
      "source": [
        "string_example = \"Hello! My name is Dishant\"\n",
        "sub_string = string_example[0:5]\n",
        "print(sub_string)"
      ],
      "execution_count": 0,
      "outputs": [
        {
          "output_type": "stream",
          "text": [
            "Hello\n"
          ],
          "name": "stdout"
        }
      ]
    },
    {
      "cell_type": "code",
      "metadata": {
        "id": "iOJtQRJQEXao",
        "colab_type": "code",
        "colab": {}
      },
      "source": [
        ""
      ],
      "execution_count": 0,
      "outputs": []
    },
    {
      "cell_type": "code",
      "metadata": {
        "id": "TciBwuMyFuEk",
        "colab_type": "code",
        "outputId": "a2c0b5dc-9d90-4c67-cb69-7ea5fa598f8c",
        "colab": {
          "base_uri": "https://localhost:8080/",
          "height": 36
        }
      },
      "source": [
        "\n",
        "\n",
        "example_dict = {1: \"Dishant\", 2: \"Khanna\"}\n",
        "print(example_dict[2])\n"
      ],
      "execution_count": 0,
      "outputs": [
        {
          "output_type": "stream",
          "text": [
            "Khanna\n"
          ],
          "name": "stdout"
        }
      ]
    },
    {
      "cell_type": "code",
      "metadata": {
        "id": "BPxyIsecHxT5",
        "colab_type": "code",
        "outputId": "4dddfed7-e0b6-49bd-9947-42bb718391cb",
        "colab": {
          "base_uri": "https://localhost:8080/",
          "height": 129
        }
      },
      "source": [
        "list_example = [1,2,3,4,5,6]\n",
        "for i in list_example:\n",
        "  print(i)"
      ],
      "execution_count": 0,
      "outputs": [
        {
          "output_type": "stream",
          "text": [
            "1\n",
            "2\n",
            "3\n",
            "4\n",
            "5\n",
            "6\n"
          ],
          "name": "stdout"
        }
      ]
    },
    {
      "cell_type": "code",
      "metadata": {
        "id": "MzkgnVkkH_sc",
        "colab_type": "code",
        "outputId": "47dd207b-076d-445f-d149-bcea99610caf",
        "colab": {
          "base_uri": "https://localhost:8080/",
          "height": 36
        }
      },
      "source": [
        "for i in i < 10 not i >0:\n",
        "  print(i)"
      ],
      "execution_count": 0,
      "outputs": [
        {
          "output_type": "stream",
          "text": [
            "1@4@7@10@13@16@19@"
          ],
          "name": "stdout"
        }
      ]
    },
    {
      "cell_type": "code",
      "metadata": {
        "id": "vMy0BcgvJMif",
        "colab_type": "code",
        "outputId": "ff3b5774-9e67-497f-dc14-996d6516631a",
        "colab": {
          "base_uri": "https://localhost:8080/",
          "height": 36
        }
      },
      "source": [
        "string_example1 = \"Hello World!\"\n",
        "print(string_example1[-1:0])"
      ],
      "execution_count": 0,
      "outputs": [
        {
          "output_type": "stream",
          "text": [
            "\n"
          ],
          "name": "stdout"
        }
      ]
    },
    {
      "cell_type": "code",
      "metadata": {
        "id": "S-heC1x-KWHP",
        "colab_type": "code",
        "outputId": "e7643c6c-94e1-45dd-bdb4-94681f3e195c",
        "colab": {
          "base_uri": "https://localhost:8080/",
          "height": 204
        }
      },
      "source": [
        "\n",
        "for i in range(10):\n",
        "  print(\"This number is  {0} next is {1}\".format(i, \"String\"))"
      ],
      "execution_count": 0,
      "outputs": [
        {
          "output_type": "stream",
          "text": [
            "This number is  0 next is String\n",
            "This number is  1 next is String\n",
            "This number is  2 next is String\n",
            "This number is  3 next is String\n",
            "This number is  4 next is String\n",
            "This number is  5 next is String\n",
            "This number is  6 next is String\n",
            "This number is  7 next is String\n",
            "This number is  8 next is String\n",
            "This number is  9 next is String\n"
          ],
          "name": "stdout"
        }
      ]
    },
    {
      "cell_type": "code",
      "metadata": {
        "id": "wHViJFi3LFHD",
        "colab_type": "code",
        "outputId": "cc82d993-198a-4402-a467-fc79294ace0a",
        "colab": {
          "base_uri": "https://localhost:8080/",
          "height": 54
        }
      },
      "source": [
        "len(list_example)\n",
        "print(list_example)\n",
        "print(len(list_example))"
      ],
      "execution_count": 0,
      "outputs": [
        {
          "output_type": "stream",
          "text": [
            "[1, 2, 3, 4, 5, 6]\n",
            "6\n"
          ],
          "name": "stdout"
        }
      ]
    },
    {
      "cell_type": "code",
      "metadata": {
        "id": "lpi4H7nNLT-p",
        "colab_type": "code",
        "outputId": "96794ae0-d6b8-41e8-ac98-c70600359305",
        "colab": {
          "base_uri": "https://localhost:8080/",
          "height": 36
        }
      },
      "source": [
        "i = 10\n",
        "\n",
        "if i < 10: \n",
        "  print(False)\n",
        "elif i == 10:\n",
        "  print(True)\n",
        "else:\n",
        "  if i <15:\n",
        "    print(True)\n",
        "  else:\n",
        "d    print(False)"
      ],
      "execution_count": 0,
      "outputs": [
        {
          "output_type": "execute_result",
          "data": {
            "text/plain": [
              "False"
            ]
          },
          "metadata": {
            "tags": []
          },
          "execution_count": 36
        }
      ]
    },
    {
      "cell_type": "code",
      "metadata": {
        "id": "1QUZtwb6MPtl",
        "colab_type": "code",
        "outputId": "b5d41f9b-2b2b-40aa-d37a-fee8d652e7ce",
        "colab": {
          "base_uri": "https://localhost:8080/",
          "height": 36
        }
      },
      "source": [
        "def myFunction(i: int) -> int:\n",
        "  return i+1\n",
        "\n",
        "\n",
        "if __name__ == \"__app__\":\n",
        "\n",
        "\n",
        "if _name__ == \"__main__\":\n",
        "i = 10\n",
        "a = myFunction(i)\n",
        "print(a)\n",
        "\n"
      ],
      "execution_count": 0,
      "outputs": [
        {
          "output_type": "stream",
          "text": [
            "11\n"
          ],
          "name": "stdout"
        }
      ]
    },
    {
      "cell_type": "code",
      "metadata": {
        "id": "ervZrdjIOZG6",
        "colab_type": "code",
        "outputId": "551b48fc-2365-4e59-cffa-765f7dcfaf5f",
        "colab": {
          "base_uri": "https://localhost:8080/",
          "height": 54
        }
      },
      "source": [
        "list_example2 = [1,2,3,4,5,6]\n",
        "list_example3 = [i+1 for i in list_example2]\n",
        "print(list_example3)\n",
        "dict_example2 = {1:10, 2:20, 3:30, 4:40}\n",
        "dict_example3 = {value:key for key, value in dict_example2.items()}\n",
        "print(dict_example3)"
      ],
      "execution_count": 0,
      "outputs": [
        {
          "output_type": "stream",
          "text": [
            "[2, 3, 4, 5, 6, 7]\n",
            "{10: 1, 20: 2, 30: 3, 40: 4}\n"
          ],
          "name": "stdout"
        }
      ]
    },
    {
      "cell_type": "code",
      "metadata": {
        "id": "vANvWkvULtpA",
        "colab_type": "code",
        "colab": {}
      },
      "source": [
        "i"
      ],
      "execution_count": 0,
      "outputs": []
    },
    {
      "cell_type": "code",
      "metadata": {
        "id": "eE2oCFoPIcjE",
        "colab_type": "code",
        "colab": {}
      },
      "source": [
        "i = 0\n",
        "while i < 10:\n",
        "  print(i)\n",
        "  i += 1"
      ],
      "execution_count": 0,
      "outputs": []
    }
  ]
}